{
 "metadata": {
  "name": "",
  "signature": "sha256:a099ff1a1b163c3be68da4cdec641e4ff796d9ae18d93eef072b3bfa7093bcad"
 },
 "nbformat": 3,
 "nbformat_minor": 0,
 "worksheets": [
  {
   "cells": [
    {
     "cell_type": "markdown",
     "metadata": {},
     "source": [
      "#Iris problem\n",
      "<img src=\"iris_petal_sepal.png\">\n",
      "<img src=\"iris_types.png\">"
     ]
    },
    {
     "cell_type": "markdown",
     "metadata": {},
     "source": [
      "###load the data set"
     ]
    },
    {
     "cell_type": "code",
     "collapsed": false,
     "input": [
      "import numpy as np\n",
      "from sklearn.datasets import load_iris\n",
      "from sklearn import tree\n",
      "\n",
      "#get the data \n",
      "iris = load_iris()\n",
      "\n",
      "#printing the features and the target\n",
      "print(iris.feature_names)\n",
      "print(iris.target_names)"
     ],
     "language": "python",
     "metadata": {},
     "outputs": [
      {
       "output_type": "stream",
       "stream": "stdout",
       "text": [
        "['sepal length (cm)', 'sepal width (cm)', 'petal length (cm)', 'petal width (cm)']\n",
        "['setosa' 'versicolor' 'virginica']\n"
       ]
      }
     ],
     "prompt_number": 1
    },
    {
     "cell_type": "markdown",
     "metadata": {},
     "source": [
      "###train the classifier !"
     ]
    },
    {
     "cell_type": "code",
     "collapsed": false,
     "input": [
      "from sklearn.model_selection import train_test_split\n",
      "\n",
      "#spliting our data into train and test sections\n",
      "train_data, test_data, train_target, test_target = train_test_split(\n",
      "     iris.data, iris.target, test_size=0.4, random_state=0)\n",
      "\n",
      "# initializing our classifier\n",
      "clf = tree.DecisionTreeClassifier()\n",
      "clf.fit(train_data, train_target)"
     ],
     "language": "python",
     "metadata": {},
     "outputs": [
      {
       "metadata": {},
       "output_type": "pyout",
       "prompt_number": 2,
       "text": [
        "DecisionTreeClassifier(class_weight=None, criterion='gini', max_depth=None,\n",
        "            max_features=None, max_leaf_nodes=None,\n",
        "            min_impurity_split=1e-07, min_samples_leaf=1,\n",
        "            min_samples_split=2, min_weight_fraction_leaf=0.0,\n",
        "            presort=False, random_state=None, splitter='best')"
       ]
      }
     ],
     "prompt_number": 2
    },
    {
     "cell_type": "markdown",
     "metadata": {},
     "source": [
      "###predict label for new flowers"
     ]
    },
    {
     "cell_type": "code",
     "collapsed": false,
     "input": [
      "# print(test_target)\n",
      "# print(clf.predict(test_data))\n",
      "\n",
      "p = clf.predict(test_data)\n",
      "print(\"( \",\"right data\", \" , \",\"predicted data\",\")\" )\n",
      "for i in range(len(test_target)):\n",
      "    print(\"(\",test_target[i],\" , \",p[i],\" )\" )"
     ],
     "language": "python",
     "metadata": {},
     "outputs": [
      {
       "output_type": "stream",
       "stream": "stdout",
       "text": [
        "(  right data  ,  predicted data )\n",
        "( 2  ,  2  )\n",
        "( 1  ,  1  )\n",
        "( 0  ,  0  )\n",
        "( 2  ,  2  )\n",
        "( 0  ,  0  )\n",
        "( 2  ,  2  )\n",
        "( 0  ,  0  )\n",
        "( 1  ,  1  )\n",
        "( 1  ,  1  )\n",
        "( 1  ,  1  )\n",
        "( 2  ,  2  )\n",
        "( 1  ,  1  )\n",
        "( 1  ,  1  )\n",
        "( 1  ,  1  )\n",
        "( 1  ,  1  )\n",
        "( 0  ,  0  )\n",
        "( 1  ,  1  )\n",
        "( 1  ,  1  )\n",
        "( 0  ,  0  )\n",
        "( 0  ,  0  )\n",
        "( 2  ,  2  )\n",
        "( 1  ,  1  )\n",
        "( 0  ,  0  )\n",
        "( 0  ,  0  )\n",
        "( 2  ,  2  )\n",
        "( 0  ,  0  )\n",
        "( 0  ,  0  )\n",
        "( 1  ,  1  )\n",
        "( 1  ,  1  )\n",
        "( 0  ,  0  )\n",
        "( 2  ,  2  )\n",
        "( 1  ,  1  )\n",
        "( 0  ,  0  )\n",
        "( 2  ,  2  )\n",
        "( 2  ,  2  )\n",
        "( 1  ,  1  )\n",
        "( 0  ,  0  )\n",
        "( 1  ,  2  )\n",
        "( 1  ,  1  )\n",
        "( 1  ,  1  )\n",
        "( 2  ,  2  )\n",
        "( 0  ,  0  )\n",
        "( 2  ,  2  )\n",
        "( 0  ,  0  )\n",
        "( 0  ,  0  )\n",
        "( 1  ,  1  )\n",
        "( 2  ,  2  )\n",
        "( 2  ,  2  )\n",
        "( 2  ,  1  )\n",
        "( 2  ,  2  )\n",
        "( 1  ,  1  )\n",
        "( 2  ,  2  )\n",
        "( 1  ,  1  )\n",
        "( 1  ,  1  )\n",
        "( 2  ,  2  )\n",
        "( 2  ,  2  )\n",
        "( 2  ,  1  )\n",
        "( 2  ,  2  )\n",
        "( 1  ,  1  )\n",
        "( 2  ,  2  )\n"
       ]
      }
     ],
     "prompt_number": 3
    },
    {
     "cell_type": "markdown",
     "metadata": {},
     "source": [
      "###visualize the tree"
     ]
    },
    {
     "cell_type": "code",
     "collapsed": false,
     "input": [
      "tree.export_graphviz(clf, out_file=\"i2.dot\", \n",
      "                         feature_names=iris.feature_names,  \n",
      "                         class_names=iris.target_names,  \n",
      "                         filled=True, rounded=True,  \n",
      "                         special_characters=True,impurity=False)"
     ],
     "language": "python",
     "metadata": {},
     "outputs": [],
     "prompt_number": 6
    },
    {
     "cell_type": "markdown",
     "metadata": {},
     "source": [
      "<img src=\"i2.dot.png\">"
     ]
    },
    {
     "cell_type": "markdown",
     "metadata": {},
     "source": [
      "###convert the dot file to png file\n",
      "dot -Tpng -O i2.dot \n"
     ]
    },
    {
     "cell_type": "markdown",
     "metadata": {},
     "source": [
      "### Calc the accuracy"
     ]
    },
    {
     "cell_type": "code",
     "collapsed": false,
     "input": [
      "from sklearn import metrics\n",
      "acc = metrics.accuracy_score(iris.target, clf.predict(iris.data))\n",
      "X_train, X_test, y_train, y_test = train_test_split(\n",
      "     iris.data, iris.target, test_size=0.4, random_state=0)\n",
      "print(acc)"
     ],
     "language": "python",
     "metadata": {},
     "outputs": [
      {
       "output_type": "stream",
       "stream": "stdout",
       "text": [
        "0.98\n"
       ]
      }
     ],
     "prompt_number": 9
    },
    {
     "cell_type": "code",
     "collapsed": false,
     "input": [],
     "language": "python",
     "metadata": {},
     "outputs": []
    }
   ],
   "metadata": {}
  }
 ]
}